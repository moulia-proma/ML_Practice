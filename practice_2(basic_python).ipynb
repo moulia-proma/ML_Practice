{
  "nbformat": 4,
  "nbformat_minor": 0,
  "metadata": {
    "colab": {
      "provenance": [],
      "authorship_tag": "ABX9TyPnUvr9WsmoZghVdFgZ753H",
      "include_colab_link": true
    },
    "kernelspec": {
      "name": "python3",
      "display_name": "Python 3"
    },
    "language_info": {
      "name": "python"
    }
  },
  "cells": [
    {
      "cell_type": "markdown",
      "metadata": {
        "id": "view-in-github",
        "colab_type": "text"
      },
      "source": [
        "<a href=\"https://colab.research.google.com/github/moulia-proma/ML_Practice/blob/main/practice_2(basic_python).ipynb\" target=\"_parent\"><img src=\"https://colab.research.google.com/assets/colab-badge.svg\" alt=\"Open In Colab\"/></a>"
      ]
    },
    {
      "cell_type": "markdown",
      "source": [
        "#print funtion"
      ],
      "metadata": {
        "id": "BEg05IJNDmYL"
      }
    },
    {
      "cell_type": "code",
      "execution_count": 2,
      "metadata": {
        "colab": {
          "base_uri": "https://localhost:8080/"
        },
        "id": "Qb9TolbqBaOy",
        "outputId": "c81ff3da-7230-4d01-a22d-b6e62e377255"
      },
      "outputs": [
        {
          "output_type": "stream",
          "name": "stdout",
          "text": [
            "proma\n"
          ]
        }
      ],
      "source": [
        "print('proma')"
      ]
    },
    {
      "cell_type": "code",
      "source": [],
      "metadata": {
        "id": "rWO3gTIkC8N5"
      },
      "execution_count": null,
      "outputs": []
    },
    {
      "cell_type": "markdown",
      "source": [],
      "metadata": {
        "id": "bdNUbS3CE5M1"
      }
    },
    {
      "cell_type": "markdown",
      "source": [],
      "metadata": {
        "id": "UsG_jtpoE7V4"
      }
    },
    {
      "cell_type": "markdown",
      "source": [
        "#data types"
      ],
      "metadata": {
        "id": "reaejCZpFD7E"
      }
    },
    {
      "cell_type": "code",
      "source": [
        "type(8)"
      ],
      "metadata": {
        "colab": {
          "base_uri": "https://localhost:8080/"
        },
        "id": "fP0yJKT0FG8e",
        "outputId": "a0447c7d-eba4-423c-ca19-199ac55787ce"
      },
      "execution_count": 3,
      "outputs": [
        {
          "output_type": "execute_result",
          "data": {
            "text/plain": [
              "int"
            ]
          },
          "metadata": {},
          "execution_count": 3
        }
      ]
    },
    {
      "cell_type": "code",
      "source": [
        "type(8.3)"
      ],
      "metadata": {
        "colab": {
          "base_uri": "https://localhost:8080/"
        },
        "id": "COWrPQzNFJkD",
        "outputId": "e99a1108-e3fb-48ea-b444-186a9eb451fd"
      },
      "execution_count": 4,
      "outputs": [
        {
          "output_type": "execute_result",
          "data": {
            "text/plain": [
              "float"
            ]
          },
          "metadata": {},
          "execution_count": 4
        }
      ]
    },
    {
      "cell_type": "code",
      "source": [
        "type('proma')"
      ],
      "metadata": {
        "colab": {
          "base_uri": "https://localhost:8080/"
        },
        "id": "Lru0UznSFLUI",
        "outputId": "aa93b6aa-2a33-4128-a35c-a12608ea335a"
      },
      "execution_count": 5,
      "outputs": [
        {
          "output_type": "execute_result",
          "data": {
            "text/plain": [
              "str"
            ]
          },
          "metadata": {},
          "execution_count": 5
        }
      ]
    },
    {
      "cell_type": "code",
      "source": [],
      "metadata": {
        "id": "GFlhrtzcFOVf"
      },
      "execution_count": null,
      "outputs": []
    },
    {
      "cell_type": "markdown",
      "source": [
        "#constants and variables"
      ],
      "metadata": {
        "id": "ycB8F-1xFeDc"
      }
    },
    {
      "cell_type": "code",
      "source": [
        "a,b,c=\"pp\",'oo','uu'"
      ],
      "metadata": {
        "id": "zcSNeHWnFjJg"
      },
      "execution_count": 6,
      "outputs": []
    },
    {
      "cell_type": "code",
      "source": [
        "print(a)\n",
        "print(b)"
      ],
      "metadata": {
        "colab": {
          "base_uri": "https://localhost:8080/"
        },
        "id": "f9gXxujiGX9F",
        "outputId": "5d5bb1e6-93cf-46b5-e71e-2a258cf57043"
      },
      "execution_count": 7,
      "outputs": [
        {
          "output_type": "stream",
          "name": "stdout",
          "text": [
            "pp\n",
            "oo\n"
          ]
        }
      ]
    },
    {
      "cell_type": "code",
      "source": [
        "x=y=z=0\n",
        "print(y)\n",
        "print(x)"
      ],
      "metadata": {
        "colab": {
          "base_uri": "https://localhost:8080/"
        },
        "id": "YQY-S4dxGcAc",
        "outputId": "77047a27-2baf-4081-c656-6a8d4bd5c754"
      },
      "execution_count": 8,
      "outputs": [
        {
          "output_type": "stream",
          "name": "stdout",
          "text": [
            "0\n",
            "0\n"
          ]
        }
      ]
    },
    {
      "cell_type": "markdown",
      "source": [
        "#input function"
      ],
      "metadata": {
        "id": "WRY0yBnlI1W-"
      }
    },
    {
      "cell_type": "code",
      "source": [
        "nm1= input()\n",
        "num2=input('enter nmbr 2: ')"
      ],
      "metadata": {
        "colab": {
          "base_uri": "https://localhost:8080/"
        },
        "id": "xy45TdifI5Km",
        "outputId": "3d7ae444-c5d4-497d-b3c8-2d18b1834a0d"
      },
      "execution_count": 9,
      "outputs": [
        {
          "name": "stdout",
          "output_type": "stream",
          "text": [
            "2\n",
            "enter nmbr 2: 5\n"
          ]
        }
      ]
    },
    {
      "cell_type": "code",
      "source": [
        "print(nm1)\n",
        "print(num2)"
      ],
      "metadata": {
        "colab": {
          "base_uri": "https://localhost:8080/"
        },
        "id": "6zqC38UdMD9x",
        "outputId": "57399e9d-fc1d-4cb2-8dbd-785a2d9f0895"
      },
      "execution_count": 11,
      "outputs": [
        {
          "output_type": "stream",
          "name": "stdout",
          "text": [
            "2\n",
            "5\n"
          ]
        }
      ]
    },
    {
      "cell_type": "code",
      "source": [
        "num1=int(input())\n",
        "num3=int(input())\n",
        "print(num1+num3)"
      ],
      "metadata": {
        "colab": {
          "base_uri": "https://localhost:8080/"
        },
        "id": "mw1ACtO9MMLq",
        "outputId": "0437bf91-d5b1-4803-dc9d-bd12334a0102"
      },
      "execution_count": 13,
      "outputs": [
        {
          "output_type": "stream",
          "name": "stdout",
          "text": [
            "5\n",
            "6\n",
            "11\n"
          ]
        }
      ]
    },
    {
      "cell_type": "code",
      "source": [
        "num1=input()\n",
        "num3=input()\n",
        "print(num1+num3)"
      ],
      "metadata": {
        "colab": {
          "base_uri": "https://localhost:8080/"
        },
        "id": "pky2t33bM0ZU",
        "outputId": "2c7bbf22-830c-4b99-d53d-11c014d96b99"
      },
      "execution_count": 14,
      "outputs": [
        {
          "output_type": "stream",
          "name": "stdout",
          "text": [
            "4\n",
            "6\n",
            "46\n"
          ]
        }
      ]
    },
    {
      "cell_type": "code",
      "source": [],
      "metadata": {
        "id": "0UILchaDM3SX"
      },
      "execution_count": null,
      "outputs": []
    },
    {
      "cell_type": "markdown",
      "source": [
        "#Change data type in python"
      ],
      "metadata": {
        "id": "d6A9voQQNOPS"
      }
    },
    {
      "cell_type": "code",
      "source": [
        "nm =5\n",
        "print(float(nm))\n"
      ],
      "metadata": {
        "colab": {
          "base_uri": "https://localhost:8080/"
        },
        "id": "wYpxk2fENT1Q",
        "outputId": "a71e9c0e-f092-4f1b-c3c9-71dd3f5c63c8"
      },
      "execution_count": 20,
      "outputs": [
        {
          "output_type": "stream",
          "name": "stdout",
          "text": [
            "5.0\n"
          ]
        }
      ]
    },
    {
      "cell_type": "code",
      "source": [],
      "metadata": {
        "id": "DykhWijoN0d3"
      },
      "execution_count": null,
      "outputs": []
    }
  ]
}