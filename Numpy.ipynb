{
  "nbformat": 4,
  "nbformat_minor": 0,
  "metadata": {
    "colab": {
      "provenance": [],
      "authorship_tag": "ABX9TyMy0tGQ8DjefCKpEQpjZ5NH"
    },
    "kernelspec": {
      "name": "python3",
      "display_name": "Python 3"
    },
    "language_info": {
      "name": "python"
    }
  },
  "cells": [
    {
      "cell_type": "markdown",
      "source": [
        "#Numpy"
      ],
      "metadata": {
        "id": "s2I4VjE29158"
      }
    },
    {
      "cell_type": "code",
      "execution_count": 2,
      "metadata": {
        "id": "qEs6J6q84cjR"
      },
      "outputs": [],
      "source": [
        "import numpy as np"
      ]
    },
    {
      "cell_type": "markdown",
      "source": [
        "numpy vs list"
      ],
      "metadata": {
        "id": "kA_C_Ol37Fch"
      }
    },
    {
      "cell_type": "code",
      "source": [
        "from time import process_time"
      ],
      "metadata": {
        "id": "tHPKTNbs6trx"
      },
      "execution_count": null,
      "outputs": []
    },
    {
      "cell_type": "markdown",
      "source": [
        "time taken by a list"
      ],
      "metadata": {
        "id": "chSMz9Vw7TtJ"
      }
    },
    {
      "cell_type": "code",
      "source": [
        "ls1=[i for i in range (100000)]\n",
        "start_time= process_time()\n",
        "ls2=[i+5 for i in ls1]\n",
        "end_time=process_time()\n",
        "print(end_time-start_time)\n"
      ],
      "metadata": {
        "colab": {
          "base_uri": "https://localhost:8080/"
        },
        "id": "3GzdQNQC7O9A",
        "outputId": "7774395c-1693-48ea-8b11-6abbacab3ded"
      },
      "execution_count": null,
      "outputs": [
        {
          "output_type": "stream",
          "name": "stdout",
          "text": [
            "0.008440983000000735\n"
          ]
        }
      ]
    },
    {
      "cell_type": "markdown",
      "source": [
        "time taken by numpy array"
      ],
      "metadata": {
        "id": "G9jdDVYF8Vdx"
      }
    },
    {
      "cell_type": "code",
      "source": [
        "nm_arr = np.array([i for i in range (100000)])\n",
        "start_time = process_time()\n",
        "nm_arr+=5\n",
        "end_time=process_time()\n",
        "print(end_time-start_time)"
      ],
      "metadata": {
        "colab": {
          "base_uri": "https://localhost:8080/"
        },
        "id": "CGdUPqiK8LSJ",
        "outputId": "5ff43acc-b1e1-4940-c4a8-7ed0dc2eabe6"
      },
      "execution_count": null,
      "outputs": [
        {
          "output_type": "stream",
          "name": "stdout",
          "text": [
            "0.00029290499999934383\n"
          ]
        }
      ]
    },
    {
      "cell_type": "markdown",
      "source": [
        "Numpy Arrays"
      ],
      "metadata": {
        "id": "0J35t_y7-AEZ"
      }
    },
    {
      "cell_type": "code",
      "source": [
        "np_ar = np.array([1,2,3,4])\n",
        "print(np_ar)\n",
        "type(np_ar)"
      ],
      "metadata": {
        "colab": {
          "base_uri": "https://localhost:8080/"
        },
        "id": "qU5XBxfy99t5",
        "outputId": "3f267fa5-6973-4efc-a0c4-2bd7f5fcc9f1"
      },
      "execution_count": null,
      "outputs": [
        {
          "output_type": "stream",
          "name": "stdout",
          "text": [
            "[1 2 3 4]\n"
          ]
        },
        {
          "output_type": "execute_result",
          "data": {
            "text/plain": [
              "numpy.ndarray"
            ]
          },
          "metadata": {},
          "execution_count": 10
        }
      ]
    },
    {
      "cell_type": "code",
      "source": [
        "np_ar.shape\n"
      ],
      "metadata": {
        "colab": {
          "base_uri": "https://localhost:8080/"
        },
        "id": "ByOO7dtD-iTm",
        "outputId": "9d1a1b4b-b164-435a-8300-611dad72b376"
      },
      "execution_count": null,
      "outputs": [
        {
          "output_type": "execute_result",
          "data": {
            "text/plain": [
              "(4,)"
            ]
          },
          "metadata": {},
          "execution_count": 11
        }
      ]
    },
    {
      "cell_type": "code",
      "source": [
        "b=np.array([(1,2),(3,4),(5,6)])\n",
        "print(b)"
      ],
      "metadata": {
        "colab": {
          "base_uri": "https://localhost:8080/"
        },
        "id": "j_918oFV-0Cd",
        "outputId": "332d93f4-8adb-40e6-fae7-e5674707241e"
      },
      "execution_count": null,
      "outputs": [
        {
          "output_type": "stream",
          "name": "stdout",
          "text": [
            "[[1 2]\n",
            " [3 4]\n",
            " [5 6]]\n"
          ]
        }
      ]
    },
    {
      "cell_type": "code",
      "source": [
        "b.shape"
      ],
      "metadata": {
        "colab": {
          "base_uri": "https://localhost:8080/"
        },
        "id": "Cbvu4WMB_Fue",
        "outputId": "4f697987-2794-4736-94d4-46304b61e2a2"
      },
      "execution_count": null,
      "outputs": [
        {
          "output_type": "execute_result",
          "data": {
            "text/plain": [
              "(3, 2)"
            ]
          },
          "metadata": {},
          "execution_count": 14
        }
      ]
    },
    {
      "cell_type": "code",
      "source": [
        "c= np.array([(1,2,3),(4,5,6)],dtype=float)\n",
        "\n",
        "print(c)"
      ],
      "metadata": {
        "colab": {
          "base_uri": "https://localhost:8080/"
        },
        "id": "mykeSWQx_Hhs",
        "outputId": "2feac527-532b-4ab5-bec7-1dc6f7e7c14f"
      },
      "execution_count": null,
      "outputs": [
        {
          "output_type": "stream",
          "name": "stdout",
          "text": [
            "[[1. 2. 3.]\n",
            " [4. 5. 6.]]\n"
          ]
        }
      ]
    },
    {
      "cell_type": "markdown",
      "source": [
        "initial placeholders in numpy array"
      ],
      "metadata": {
        "id": "uR9TiURx_4Sd"
      }
    },
    {
      "cell_type": "markdown",
      "source": [
        "array with zeros"
      ],
      "metadata": {
        "id": "wFPBNW-TA6l7"
      }
    },
    {
      "cell_type": "code",
      "source": [
        "x= np.zeros((4,1))\n",
        "print(x)"
      ],
      "metadata": {
        "colab": {
          "base_uri": "https://localhost:8080/"
        },
        "id": "tVjQbd9Y_gZY",
        "outputId": "bd2d4840-c15b-4b02-843c-f939567e77ec"
      },
      "execution_count": null,
      "outputs": [
        {
          "output_type": "stream",
          "name": "stdout",
          "text": [
            "[[0.]\n",
            " [0.]\n",
            " [0.]\n",
            " [0.]]\n"
          ]
        }
      ]
    },
    {
      "cell_type": "markdown",
      "source": [
        "array with one"
      ],
      "metadata": {
        "id": "Fl1Qef1kA4mu"
      }
    },
    {
      "cell_type": "code",
      "source": [
        "y = np.ones((4,5))\n",
        "print(y)"
      ],
      "metadata": {
        "colab": {
          "base_uri": "https://localhost:8080/"
        },
        "id": "6RfneMc9AMiC",
        "outputId": "5e4dfb86-b090-4d22-cae4-2f1b63d8717c"
      },
      "execution_count": null,
      "outputs": [
        {
          "output_type": "stream",
          "name": "stdout",
          "text": [
            "[[1. 1. 1. 1. 1.]\n",
            " [1. 1. 1. 1. 1.]\n",
            " [1. 1. 1. 1. 1.]\n",
            " [1. 1. 1. 1. 1.]]\n"
          ]
        }
      ]
    },
    {
      "cell_type": "markdown",
      "source": [
        "Array with particular value"
      ],
      "metadata": {
        "id": "oJ4lK7JvBBlc"
      }
    },
    {
      "cell_type": "code",
      "source": [
        "z=np.full((3,4),(5))\n",
        "print(z)"
      ],
      "metadata": {
        "colab": {
          "base_uri": "https://localhost:8080/"
        },
        "id": "i-CNz-QXAwua",
        "outputId": "917fef69-b431-4853-db23-dc41a13b8333"
      },
      "execution_count": null,
      "outputs": [
        {
          "output_type": "stream",
          "name": "stdout",
          "text": [
            "[[5 5 5 5]\n",
            " [5 5 5 5]\n",
            " [5 5 5 5]]\n"
          ]
        }
      ]
    },
    {
      "cell_type": "markdown",
      "source": [
        "Identy matrix"
      ],
      "metadata": {
        "id": "111mj1mOBYmz"
      }
    },
    {
      "cell_type": "code",
      "source": [
        "id=np.eye((4))\n",
        "print(id)"
      ],
      "metadata": {
        "colab": {
          "base_uri": "https://localhost:8080/"
        },
        "id": "aZFbk6ltBNsz",
        "outputId": "f9f2a6ba-2ac2-467c-f9b9-310525b3ed3a"
      },
      "execution_count": null,
      "outputs": [
        {
          "output_type": "stream",
          "name": "stdout",
          "text": [
            "[[1. 0. 0. 0.]\n",
            " [0. 1. 0. 0.]\n",
            " [0. 0. 1. 0.]\n",
            " [0. 0. 0. 1.]]\n"
          ]
        }
      ]
    },
    {
      "cell_type": "markdown",
      "source": [
        "array with random values"
      ],
      "metadata": {
        "id": "ewf1ieWgBzDD"
      }
    },
    {
      "cell_type": "code",
      "source": [
        "rdm=np.random.random((3,4))\n",
        "print(rdm)\n"
      ],
      "metadata": {
        "colab": {
          "base_uri": "https://localhost:8080/"
        },
        "id": "8qOD2LpFBmmg",
        "outputId": "9c97e2cc-088b-4cc6-f2f5-92aafa3ac61a"
      },
      "execution_count": null,
      "outputs": [
        {
          "output_type": "stream",
          "name": "stdout",
          "text": [
            "[[0.65341077 0.44420248 0.22320104 0.87297184]\n",
            " [0.51228129 0.76290991 0.02476071 0.08373012]\n",
            " [0.27698142 0.700836   0.06440225 0.08456221]]\n"
          ]
        }
      ]
    },
    {
      "cell_type": "code",
      "source": [
        "rdm2=np.random.randint(10,100,(3,4))\n",
        "print(rdm2)"
      ],
      "metadata": {
        "colab": {
          "base_uri": "https://localhost:8080/"
        },
        "id": "j8WMkTlBCHbp",
        "outputId": "2d43ee85-0e73-4518-837c-5436fb886ee1"
      },
      "execution_count": null,
      "outputs": [
        {
          "output_type": "stream",
          "name": "stdout",
          "text": [
            "[[91 72 98 26]\n",
            " [99 38 39 79]\n",
            " [73 98 46 43]]\n"
          ]
        }
      ]
    },
    {
      "cell_type": "markdown",
      "source": [
        "array evenly spaced values ---specifying nmbrs of value required"
      ],
      "metadata": {
        "id": "MisTP0UUEr6I"
      }
    },
    {
      "cell_type": "code",
      "source": [
        "ln =np.linspace(10,30,5)\n",
        "print(ln)"
      ],
      "metadata": {
        "colab": {
          "base_uri": "https://localhost:8080/"
        },
        "id": "UcX2_sV4ClB6",
        "outputId": "0e3ffa44-c52b-4b7e-f6df-a3298e82651b"
      },
      "execution_count": null,
      "outputs": [
        {
          "output_type": "stream",
          "name": "stdout",
          "text": [
            "[10. 15. 20. 25. 30.]\n"
          ]
        }
      ]
    },
    {
      "cell_type": "markdown",
      "source": [
        "array evenly spaced values ---specifying the steps"
      ],
      "metadata": {
        "id": "LEbRxq_vFfjH"
      }
    },
    {
      "cell_type": "code",
      "source": [
        "ln2= np.arange(10,30,5)\n",
        "print(ln2)"
      ],
      "metadata": {
        "colab": {
          "base_uri": "https://localhost:8080/"
        },
        "id": "Tg8JK2lZFL18",
        "outputId": "17fcc262-9dab-4f6a-b404-eb028f6a4c24"
      },
      "execution_count": null,
      "outputs": [
        {
          "output_type": "stream",
          "name": "stdout",
          "text": [
            "[10 15 20 25]\n"
          ]
        }
      ]
    },
    {
      "cell_type": "markdown",
      "source": [
        "Convert a list to a numpy array"
      ],
      "metadata": {
        "id": "LzvONwSKGdPX"
      }
    },
    {
      "cell_type": "code",
      "source": [
        "lst1=[1,2,3,4]\n",
        "np_ar = np.asarray(lst1)\n",
        "print(np_ar)\n",
        "type(np_ar)"
      ],
      "metadata": {
        "id": "BMsFY-I2FwC5",
        "colab": {
          "base_uri": "https://localhost:8080/"
        },
        "outputId": "5fe1267d-4660-48d6-8a77-97c047a8a202"
      },
      "execution_count": null,
      "outputs": [
        {
          "output_type": "stream",
          "name": "stdout",
          "text": [
            "[1 2 3 4]\n"
          ]
        },
        {
          "output_type": "execute_result",
          "data": {
            "text/plain": [
              "numpy.ndarray"
            ]
          },
          "metadata": {},
          "execution_count": 42
        }
      ]
    },
    {
      "cell_type": "markdown",
      "source": [
        "Analysing a numpy array"
      ],
      "metadata": {
        "id": "uJfkLgQDem5r"
      }
    },
    {
      "cell_type": "code",
      "source": [
        "c= np.random.randint(10,100,(5,5))\n",
        "print(c)\n",
        "print(c.shape)\n",
        "#number of dimansion\n",
        "print(c.ndim)\n",
        "print(c.size)#number of elements\n",
        "print(c.dtype)"
      ],
      "metadata": {
        "id": "9hgZhuOfH01H",
        "colab": {
          "base_uri": "https://localhost:8080/"
        },
        "outputId": "10a93419-9253-43bd-d307-285359cd6990"
      },
      "execution_count": 9,
      "outputs": [
        {
          "output_type": "stream",
          "name": "stdout",
          "text": [
            "[[97 53 71 12 38]\n",
            " [11 94 34 45 60]\n",
            " [66 33 55 13 18]\n",
            " [93 35 60 46 74]\n",
            " [30 90 80 36 86]]\n",
            "(5, 5)\n",
            "2\n",
            "25\n",
            "int64\n"
          ]
        }
      ]
    },
    {
      "cell_type": "markdown",
      "source": [
        "Mathmetical operation in np array"
      ],
      "metadata": {
        "id": "v5G1Vsg5f0cC"
      }
    },
    {
      "cell_type": "code",
      "source": [
        "ls1=[1,2,3,4,5]\n",
        "ls2=[6,7,8,9,10]\n",
        "print(ls1+ls2)"
      ],
      "metadata": {
        "colab": {
          "base_uri": "https://localhost:8080/"
        },
        "id": "wiBW1JZbexyP",
        "outputId": "409db837-aab0-45d2-8158-0b33ca6837bf"
      },
      "execution_count": 10,
      "outputs": [
        {
          "output_type": "stream",
          "name": "stdout",
          "text": [
            "[1, 2, 3, 4, 5, 6, 7, 8, 9, 10]\n"
          ]
        }
      ]
    },
    {
      "cell_type": "code",
      "source": [
        "nls1=np.random.randint(0,10,(3,3))\n",
        "print(nls1)\n",
        "nls2 = np.random.randint(10,20,(3,3))\n",
        "print(nls2)\n",
        "print(nls1+nls2)\n",
        "print(np.add(nls1,nls2))"
      ],
      "metadata": {
        "colab": {
          "base_uri": "https://localhost:8080/"
        },
        "id": "8cWG3VJWgOOG",
        "outputId": "43b31e28-c7d7-48ff-8f56-8f686d054d1f"
      },
      "execution_count": 15,
      "outputs": [
        {
          "output_type": "stream",
          "name": "stdout",
          "text": [
            "[[1 8 9]\n",
            " [0 8 7]\n",
            " [1 6 9]]\n",
            "[[18 11 10]\n",
            " [17 19 11]\n",
            " [16 12 14]]\n",
            "[[19 19 19]\n",
            " [17 27 18]\n",
            " [17 18 23]]\n",
            "[[19 19 19]\n",
            " [17 27 18]\n",
            " [17 18 23]]\n"
          ]
        }
      ]
    },
    {
      "cell_type": "markdown",
      "source": [
        "Array manupulation"
      ],
      "metadata": {
        "id": "AceCNxMuhf6L"
      }
    },
    {
      "cell_type": "code",
      "source": [
        "ar=np.random.randint(0,10,(2,3))\n",
        "print(ar)\n",
        "print(ar.shape)\n",
        "tp=np.transpose(ar)\n",
        "print(tp)\n",
        "print(tp.shape)\n",
        "tp2=ar.T\n",
        "print(tp2)\n",
        "print(tp2.shape)"
      ],
      "metadata": {
        "colab": {
          "base_uri": "https://localhost:8080/"
        },
        "id": "v7aqIx0xgkjF",
        "outputId": "5a96f51e-1c97-48eb-85e6-8f3efce4d4c0"
      },
      "execution_count": 19,
      "outputs": [
        {
          "output_type": "stream",
          "name": "stdout",
          "text": [
            "[[2 0 3]\n",
            " [5 6 7]]\n",
            "(2, 3)\n",
            "[[2 5]\n",
            " [0 6]\n",
            " [3 7]]\n",
            "(3, 2)\n",
            "[[2 5]\n",
            " [0 6]\n",
            " [3 7]]\n",
            "(3, 2)\n"
          ]
        }
      ]
    },
    {
      "cell_type": "code",
      "source": [
        "#re-shaping array\n",
        "a= np.random.randint(0,10,(2,3))\n",
        "print(a)\n",
        "print(a.shape)\n",
        "b=a.reshape(3,2)\n",
        "print(b)\n",
        "print(b.shape)"
      ],
      "metadata": {
        "colab": {
          "base_uri": "https://localhost:8080/"
        },
        "id": "TsrBORbQiQSW",
        "outputId": "0ca14543-ca41-4a24-e156-fad7555e3f93"
      },
      "execution_count": 23,
      "outputs": [
        {
          "output_type": "stream",
          "name": "stdout",
          "text": [
            "[[3 4 1]\n",
            " [5 2 6]]\n",
            "(2, 3)\n",
            "[[3 4]\n",
            " [1 5]\n",
            " [2 6]]\n",
            "(3, 2)\n"
          ]
        }
      ]
    },
    {
      "cell_type": "code",
      "source": [],
      "metadata": {
        "id": "dbaTWlbdjfwt"
      },
      "execution_count": null,
      "outputs": []
    }
  ]
}