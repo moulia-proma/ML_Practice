{
  "nbformat": 4,
  "nbformat_minor": 0,
  "metadata": {
    "colab": {
      "provenance": [],
      "authorship_tag": "ABX9TyPrFAFSYti0kBLIBACM+gpD"
    },
    "kernelspec": {
      "name": "python3",
      "display_name": "Python 3"
    },
    "language_info": {
      "name": "python"
    }
  },
  "cells": [
    {
      "cell_type": "markdown",
      "source": [
        "#Types of objects in python:\n",
        "\n",
        "1.immutable objects(int,float,str,bool,tuple)\n",
        "2.mutable objects(list,set.dictonary)"
      ],
      "metadata": {
        "id": "xkAUe-2ftvyy"
      }
    },
    {
      "cell_type": "markdown",
      "source": [
        "list"
      ],
      "metadata": {
        "id": "jSTHO7fiv6lX"
      }
    },
    {
      "cell_type": "code",
      "execution_count": 5,
      "metadata": {
        "colab": {
          "base_uri": "https://localhost:8080/"
        },
        "id": "nlHqw5-6tYov",
        "outputId": "7bb987ab-9b49-426c-afad-2054dd9968fc"
      },
      "outputs": [
        {
          "output_type": "stream",
          "name": "stdout",
          "text": [
            "[1, 2, 3, 4, 6]\n",
            "5\n",
            "[1, 2, 4, 6]\n"
          ]
        }
      ],
      "source": [
        "lst1=[1,2,3,4]\n",
        "lst1.append(6)\n",
        "print(lst1)\n",
        "print(len(lst1))\n",
        "del lst1[2]\n",
        "print(lst1)"
      ]
    },
    {
      "cell_type": "markdown",
      "source": [
        "tuple"
      ],
      "metadata": {
        "id": "YQhIzChOtvAf"
      }
    },
    {
      "cell_type": "code",
      "source": [
        "tpl1=(1,2,3)\n",
        "print(tpl1)"
      ],
      "metadata": {
        "colab": {
          "base_uri": "https://localhost:8080/"
        },
        "id": "FCYsN9VRv9mQ",
        "outputId": "8b550cfb-849c-4da6-b167-4ef8ab263cbe"
      },
      "execution_count": 6,
      "outputs": [
        {
          "output_type": "stream",
          "name": "stdout",
          "text": [
            "(1, 2, 3)\n"
          ]
        }
      ]
    },
    {
      "cell_type": "markdown",
      "source": [
        "converting list to tuple"
      ],
      "metadata": {
        "id": "MoWCVhlPwVWT"
      }
    },
    {
      "cell_type": "code",
      "source": [
        "ls1= [1,2,3]\n",
        "my_tuple=tuple(ls1)\n",
        "print(my_tuple)"
      ],
      "metadata": {
        "colab": {
          "base_uri": "https://localhost:8080/"
        },
        "id": "kXOgYsc-wM9z",
        "outputId": "894c839f-d9dd-48f2-e1cf-9086852959a3"
      },
      "execution_count": 7,
      "outputs": [
        {
          "output_type": "stream",
          "name": "stdout",
          "text": [
            "(1, 2, 3)\n"
          ]
        }
      ]
    },
    {
      "cell_type": "markdown",
      "source": [
        "set"
      ],
      "metadata": {
        "id": "OlrmoNZKw7lU"
      }
    },
    {
      "cell_type": "code",
      "source": [
        "s1={4,2,3}\n",
        "print(s1)"
      ],
      "metadata": {
        "colab": {
          "base_uri": "https://localhost:8080/"
        },
        "id": "kkX8PxN6wnJL",
        "outputId": "b95fa754-710b-4d9b-ce4f-0c8946ff8011"
      },
      "execution_count": 10,
      "outputs": [
        {
          "output_type": "stream",
          "name": "stdout",
          "text": [
            "{2, 3, 4}\n"
          ]
        }
      ]
    },
    {
      "cell_type": "markdown",
      "source": [
        "Dictonary"
      ],
      "metadata": {
        "id": "RABF_u1Wx5Mb"
      }
    },
    {
      "cell_type": "code",
      "source": [
        "dc1={ 'name':'proma','age':23,'class':1 }\n",
        "print(dc1)\n",
        "    \n",
        "print(dc1['name'])"
      ],
      "metadata": {
        "colab": {
          "base_uri": "https://localhost:8080/"
        },
        "id": "W5hLssWNx4JP",
        "outputId": "bd351cbd-efee-4f37-b32b-651704468ba0"
      },
      "execution_count": 16,
      "outputs": [
        {
          "output_type": "stream",
          "name": "stdout",
          "text": [
            "{'name': 'proma', 'age': 23, 'class': 1}\n",
            "proma\n"
          ]
        }
      ]
    },
    {
      "cell_type": "code",
      "source": [],
      "metadata": {
        "id": "im92b0jsyZRU"
      },
      "execution_count": null,
      "outputs": []
    }
  ]
}